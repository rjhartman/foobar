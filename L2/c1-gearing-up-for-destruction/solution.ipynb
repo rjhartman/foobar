{
 "cells": [
  {
   "cell_type": "markdown",
   "metadata": {},
   "source": [
    "# Gearing Up For Destruction\n",
    "**Challenge 2** - *12/26/21 - 1/1/21* \n",
    "\n",
    "## Problem\n",
    "\n",
    "We are given a list of distinct positive integers that represent the locations of pegs. Each location can be thought of as a coordinate on a number line.\n",
    "\n",
    "On each peg, we must place a gear. Each peg must get one gear, and all gears must touch their adjacent gears. The goal is to come up with a configuration of gears, if it exists, that spins the last gear *twice* as fast as the first.\n",
    "\n",
    "Gears can have a radius of any real number, with no constraints other than the radius must be greater than or equal to 1.\n",
    "\n",
    "For example, if we are given a list of peg locations:\n",
    "\n",
    "```python\n",
    "[5, 30, 50]\n",
    "```\n",
    "\n",
    "Then we could find gears with radii 12, 14 and 6 that would drive the last gear twice as fast as the first. The challenge has us return a `list` representing the simplified fraction in the form `[numerator, denominator]`. So, we would return:\n",
    "\n",
    "```python\n",
    "[12, 1]\n",
    "```\n",
    "\n",
    "## Solution\n",
    "\n",
    "### Approach\n",
    "\n",
    "Because the gears can have a radius of any real number, the amount of gear configurations is uncountably infinite. This eliminates any sort of searching algorithm, which was my naive approach.\n",
    "\n",
    "Instead, we have to think about the problem as a system of equations, and solve for the radius of the first gear.\n",
    "\n",
    "![Imgur](https://i.imgur.com/9r9fp3s.png)\n",
    "\n",
    "For the previous example with 3 gears, the system of equations is easy to solve. Firstly, we know that the distance between the pegs has to equal the sum of the gears' radii, being careful to double the middle gear's radius:\n",
    "\n",
    "$$d_{total} = r_a + 2r_b + r_c$$\n",
    "\n",
    "We also know that the radius of the last gear must be half the radius of the first gear, in order for it to spin twice as fast:\n",
    "\n",
    "$$r_c = \\frac{1}{2}r_a$$\n",
    "\n",
    "Lastly, we know that the distance between pegs `a` and `b` must be equal to the radius of gear `a` plus the radius of gear `b`. Rearranged, this gives us a second equation to substitute:\n",
    "\n",
    "$$ d_1 = r_a + r_b $$\n",
    "$$r_b = d_1 - r_a$$\n",
    "\n",
    "Substituting all terms, we can solve for the radius of the first gear:\n",
    "\n",
    "$$ d_{total} = r_a + 2(d_1 - r_a) + \\frac{1}{2}r_a $$\n",
    "$$ c - a = r_a + 2d_1 - 2r_a + \\frac{1}{2}r_a $$\n",
    "$$ 46 = 2d_1 - \\frac{1}{2}r_a $$\n",
    "$$ r_a = - 2(46 - 2d_1) = -2(46 - 2(30 - 4)) = -2(-6) = 12 $$\n",
    "\n",
    "In fact, we can come up with enough equations to substitute for however many gears we have, allowing us to use this same approach for `n` pegs.\n",
    "\n",
    "### Solving for n pegs\n",
    "\n",
    "We can substitute equations for the distance between pegs for all gears except the first. This creates the following series:\n",
    "\n",
    "$$ r_0 +2(d_0-r_0) + 2(d_1 - (d_0 - r_0)) + 2(d_2 - (d_1 - (d_0 - r_0))) + ... + \\frac{1}{2}r_0 = d_{total} $$\n",
    "\n",
    "Each term simply adds a distance to subtract. Importantly, the simplified coefficient of r<sub>0</sub> can be determined without distributing each term. Since two adjacent terms will cancel out their r<sub>0</sub>s, we know that for an odd number of pegs (and an odd number of terms) the coefficient will be -1/2, and 3/2 otherwise. This means we only have to solve for the summation of the distances.\n",
    "\n",
    "So, assuming we can program a function to sum all the middle terms, we can solve for r<sub>0</sub>:\n",
    "\n",
    "$$ c*r_o + f(pegs) = d_{total} $$\n",
    "$$ r_o = \\frac{d_{total} - f(pegs)}{c} $$\n",
    "\n",
    "Where `c` is `-1/2` or `3/2` depending on the parity of number of pegs, and `f(pegs)` is the function we write to add all the middle terms' constants.\n",
    "\n",
    "\n",
    "### Code\n",
    "\n",
    "With this ironed out, the solution becomes pretty easy to transfer to code. Firstly, we should make a function that can solve any given term. It is very similar to implementing the Fibonacci sequence:"
   ]
  },
  {
   "cell_type": "code",
   "execution_count": 18,
   "metadata": {},
   "outputs": [],
   "source": [
    "memo = {}\n",
    "def nth_term(n, pegs):\n",
    "    # Base case, if n is zero return the distance between\n",
    "    # the first and second peg.\n",
    "    if n == 0:\n",
    "        return pegs[1] - pegs[0]\n",
    "    # Otherwise, return the distance between this peg and the next,\n",
    "    # and recurse.\n",
    "    if (n,pegs) not in memo:\n",
    "        memo[(n,pegs)] = (pegs[n + 1] - pegs[n]) - nth_term(n - 1, pegs)\n",
    "    return memo[(n,pegs)]"
   ]
  },
  {
   "cell_type": "markdown",
   "metadata": {},
   "source": [
    "Now, we can code the final solution."
   ]
  },
  {
   "cell_type": "code",
   "execution_count": 16,
   "metadata": {},
   "outputs": [],
   "source": [
    "from fractions import Fraction\n",
    "\n",
    "def solution(pegs):\n",
    "    total_distance = pegs[-1] - pegs[0]\n",
    "    # The coefficient of the first gear radius:\n",
    "    c = Fraction(3, 2) if len(pegs) % 2 == 0 else Fraction(-1, 2)\n",
    "    # Number of middle terms to solve:\n",
    "    n = len(pegs) - 2\n",
    "    \n",
    "    all_terms = sum(nth_term(i, pegs) for i in range(n)) * 2\n",
    "\n",
    "    gear_radius = Fraction((total_distance - all_terms), c)\n",
    "\n",
    "    return [gear_radius.numerator, gear_radius.denominator] if gear_radius >= 1 else [-1, -1]"
   ]
  },
  {
   "cell_type": "markdown",
   "metadata": {},
   "source": [
    "Testing it with the above three-gear example, we get the expected result:"
   ]
  },
  {
   "cell_type": "code",
   "execution_count": 19,
   "metadata": {},
   "outputs": [
    {
     "data": {
      "text/plain": [
       "[12, 1]"
      ]
     },
     "execution_count": 19,
     "metadata": {},
     "output_type": "execute_result"
    }
   ],
   "source": [
    "solution([4, 30, 50])"
   ]
  },
  {
   "cell_type": "markdown",
   "metadata": {},
   "source": [
    "And when testing it with the provided example of an incompatible peg configuration, we get the proper sentinel values:"
   ]
  },
  {
   "cell_type": "code",
   "execution_count": 20,
   "metadata": {},
   "outputs": [
    {
     "data": {
      "text/plain": [
       "[-1, -1]"
      ]
     },
     "execution_count": 20,
     "metadata": {},
     "output_type": "execute_result"
    }
   ],
   "source": [
    "solution([4, 17, 50])"
   ]
  }
 ],
 "metadata": {
  "interpreter": {
   "hash": "43f82cd4cb96a440704902f5d6ad1c0a1208589500b37b572d871d157e2519a1"
  },
  "kernelspec": {
   "display_name": "Python 2.7.13 64-bit",
   "language": "python",
   "name": "python3"
  },
  "language_info": {
   "codemirror_mode": {
    "name": "ipython",
    "version": 2
   },
   "file_extension": ".py",
   "mimetype": "text/x-python",
   "name": "python",
   "nbconvert_exporter": "python",
   "pygments_lexer": "ipython2",
   "version": "2.7.13"
  },
  "orig_nbformat": 4
 },
 "nbformat": 4,
 "nbformat_minor": 2
}
